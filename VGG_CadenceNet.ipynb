{
  "cells": [
    {
      "cell_type": "markdown",
      "metadata": {
        "id": "view-in-github",
        "colab_type": "text"
      },
      "source": [
        "<a href=\"https://colab.research.google.com/github/PinakW/DIssertation_expt/blob/main/VGG_CadenceNet.ipynb\" target=\"_parent\"><img src=\"https://colab.research.google.com/assets/colab-badge.svg\" alt=\"Open In Colab\"/></a>"
      ]
    },
    {
      "cell_type": "code",
      "execution_count": 1,
      "metadata": {
        "id": "BCeppY1fBRsz"
      },
      "outputs": [],
      "source": [
        "USE_ORIGINAL = 0\n",
        "loss = 'categorical_crossentropy'"
      ]
    },
    {
      "cell_type": "code",
      "execution_count": 2,
      "metadata": {
        "id": "IYvbodAaO5NT"
      },
      "outputs": [],
      "source": [
        "import tensorflow_datasets as tfds\n",
        "import numpy as np\n",
        "#For plotting the dataset\n",
        "import matplotlib.pyplot as plt\n",
        "from keras.preprocessing.image import ImageDataGenerator\n",
        "#Data pipeline preparation\n",
        "import tensorflow as tf\n",
        "from tensorflow.keras import layers\n",
        "#model building\n",
        "from tensorflow.keras import models\n",
        "import tensorflow.keras.utils as tfutils\n",
        "import os\n",
        "import copy"
      ]
    },
    {
      "cell_type": "code",
      "execution_count": 3,
      "metadata": {
        "id": "bJSJfW_tPA88"
      },
      "outputs": [],
      "source": [
        "NUM_CLASSES = 10\n",
        "\n",
        "DataSet = 'cifar10'\n",
        "#'caltech101'\n",
        "#'cifar10'\n",
        "def num_samples_per_class(ds_train, get_top_10 = False, print_all = False):\n",
        "    vals = np.unique(np.fromiter(ds_train.map(lambda x, y: y), int), return_counts=True)\n",
        "    class_list = []\n",
        "    class_hist = []\n",
        "    for val,count in zip(*vals):\n",
        "        if print_all==True:\n",
        "            print(int(val), count)\n",
        "        class_hist.append((val,count))\n",
        "    if get_top_10 == True:\n",
        "        sorted_tuple = sorted(class_hist, key=lambda t: t[-1], reverse=True)[:(NUM_CLASSES + 1)]    #+1 because we are going to remove \"backround_google\" i.e. 4\n",
        "        class_list = [x for x,y in sorted_tuple]\n",
        "    return class_list\n",
        "\n",
        "def filter_fn(x, allowed_classes:list):\n",
        "    allowed_classes = tf.constant(allowed_classes)\n",
        "    isallowed = tf.equal(allowed_classes, tf.cast(x, allowed_classes.dtype))\n",
        "    reduced_sum = tf.reduce_sum(tf.cast(isallowed, tf.float32))\n",
        "    return tf.greater(reduced_sum, tf.constant(0.))"
      ]
    },
    {
      "cell_type": "code",
      "execution_count": 4,
      "metadata": {
        "id": "2fLIbNS2PDZ1"
      },
      "outputs": [],
      "source": [
        "if DataSet == 'caltech101':\n",
        "    ds_train, train_info = tfds.load(DataSet, split='test[0:90%]', as_supervised=True, with_info = True)\n",
        "    ds_test = tfds.load(DataSet, split='train', as_supervised=True)\n",
        "    ds_val = tfds.load(DataSet, split='test[90%:]', as_supervised=True) \n",
        "else:\n",
        "    ds_train, train_info = tfds.load(DataSet, split='train[0:80%]', as_supervised=True, with_info = True)   #taking 0 to 80% for training\n",
        "    ds_test = tfds.load(DataSet, split='test', as_supervised=True)        \n",
        "    ds_val = tfds.load(DataSet, split='test[80%:]', as_supervised=True)                                     #taking data from 80% point to the end of the dataset (100%) for validation\n"
      ]
    },
    {
      "cell_type": "code",
      "execution_count": 5,
      "metadata": {
        "colab": {
          "base_uri": "https://localhost:8080/"
        },
        "id": "QOoGq7JtPGn8",
        "outputId": "c26a3541-4392-4789-cbe8-2c6e6b905d82"
      },
      "outputs": [
        {
          "output_type": "stream",
          "name": "stderr",
          "text": [
            "WARNING:tensorflow:From /usr/local/lib/python3.8/dist-packages/tensorflow/python/autograph/pyct/static_analysis/liveness.py:83: Analyzer.lamba_check (from tensorflow.python.autograph.pyct.static_analysis.liveness) is deprecated and will be removed after 2023-09-23.\n",
            "Instructions for updating:\n",
            "Lambda fuctions will be no more assumed to be used in the statement where they are used, or at least in the same block. https://github.com/tensorflow/tensorflow/issues/56089\n"
          ]
        }
      ],
      "source": [
        "class_list = num_samples_per_class(ds_train, get_top_10=True)\n",
        "if DataSet == 'caltech101':\n",
        "  class_list = [i for i in class_list if i != train_info.features['label'].str2int('background_google')]\n",
        "  class_list.sort()\n",
        "class_names = [train_info.features['label'].int2str(i) for i in class_list]"
      ]
    },
    {
      "cell_type": "code",
      "execution_count": 6,
      "metadata": {
        "id": "VeThcLypHU4m"
      },
      "outputs": [],
      "source": [
        "resized_ds_train = ds_train.filter(lambda x, y: filter_fn(y, class_list)) # as_supervised\n",
        "resized_ds_test = ds_test.filter(lambda x, y: filter_fn(y, class_list))\n",
        "resized_ds_val = ds_val.filter(lambda x, y: filter_fn(y, class_list))"
      ]
    },
    {
      "cell_type": "code",
      "execution_count": 7,
      "metadata": {
        "id": "QdPKLGVdPNrk"
      },
      "outputs": [],
      "source": [
        "#Hyperparameters\n",
        "if DataSet=='caltech101':\n",
        "    IMG_SIZE = 60\n",
        "elif DataSet=='cifar10':\n",
        "    IMG_SIZE = 32\n",
        "NUM_CHANNELS = 3\n",
        "BATCH_SIZE=128\n",
        "\n",
        "input_shape = (IMG_SIZE,IMG_SIZE,NUM_CHANNELS)\n",
        "#Relabelling to avoid issues. Note that human readability is reduced by this\n",
        "table = tf.lookup.StaticHashTable(\n",
        "    initializer=tf.lookup.KeyValueTensorInitializer(\n",
        "        keys=tf.constant(class_list, dtype=tf.int64),\n",
        "        values=tf.constant([0, 1, 2, 3, 4, 5, 6, 7, 8, 9],  dtype=tf.int64)\n",
        "    ),\n",
        "    default_value= tf.constant(0,  dtype=tf.int64)\n",
        ")\n",
        "\n",
        "#This function will be used in the graph execution hence @tf.function prefix\n",
        "@tf.function\n",
        "def map_func(label):\n",
        "    global class_list\n",
        "    global loss\n",
        "    mapped_label = table.lookup(label)\n",
        "    if loss != 'sparse_categorical_crossentropy':\n",
        "        mapped_label = tf.one_hot(indices=mapped_label, depth=NUM_CLASSES)\n",
        "    print(\"Label = \" + str(label) + \"\\t\" + \"Mapped Label = \" + str(mapped_label))\n",
        "    return mapped_label\n",
        "\n",
        "#Preprocessing done as part of the graph\n",
        "resize_and_rescale = tf.keras.Sequential([\n",
        "  layers.Resizing(IMG_SIZE, IMG_SIZE),\n",
        "  layers.Rescaling(1./255)\n",
        "])\n",
        "\n",
        "resize_layer = tf.keras.Sequential([\n",
        "  layers.Resizing(IMG_SIZE, IMG_SIZE),\n",
        "])\n",
        "\n",
        "data_augmentation = tf.keras.Sequential([\n",
        "  layers.RandomFlip(\"horizontal_and_vertical\"),\n",
        "  layers.RandomRotation(0.2),\n",
        "])\n",
        "\n",
        "buffer_size = 30*NUM_CLASSES\n",
        "\n",
        "#Preprocessing function which invokes above graphs\n",
        "def prepare(ds, shuffle=False, augment=False, resize_only = False):\n",
        "    global buffer_size\n",
        "    global BATCH_SIZE\n",
        "    \n",
        "\n",
        "    # Resize and rescale all datasets.\n",
        "    if resize_only==True:\n",
        "        ds = ds.map(lambda x, y: (resize_layer(x), map_func(y)), num_parallel_calls=tf.data.AUTOTUNE)\n",
        "    else:\n",
        "        ds = ds.map(lambda x, y: (resize_and_rescale(x), map_func(y)), num_parallel_calls=tf.data.AUTOTUNE)\n",
        "    \n",
        "    if shuffle:\n",
        "        ds = ds.shuffle(buffer_size)\n",
        "        \n",
        "    # Batch all datasets.\n",
        "    #ds = ds.batch(BATCH_SIZE)\n",
        "\n",
        "    # Use data augmentation only on the training set.\n",
        "    if augment:\n",
        "        ds_aug = ds.map(lambda x, y: (data_augmentation(x, training=True), y), num_parallel_calls=tf.data.AUTOTUNE)\n",
        "        ds = ds.concatenate(ds_aug)\n",
        "\n",
        "        \n",
        "    # Use buffered prefetching on all datasets.\n",
        "    return ds.prefetch(buffer_size=tf.data.AUTOTUNE)"
      ]
    },
    {
      "cell_type": "code",
      "execution_count": 8,
      "metadata": {
        "colab": {
          "base_uri": "https://localhost:8080/"
        },
        "id": "LmLFCHD6PgLw",
        "outputId": "3ba2ff24-869a-4586-9149-465ee7789687"
      },
      "outputs": [
        {
          "output_type": "stream",
          "name": "stdout",
          "text": [
            "Label = Tensor(\"label:0\", shape=(), dtype=int64)\tMapped Label = Tensor(\"one_hot:0\", shape=(10,), dtype=float32)\n"
          ]
        }
      ],
      "source": [
        "resized_ds_train = prepare(resized_ds_train, augment=True)\n",
        "resized_ds_test = prepare(resized_ds_test)\n",
        "resized_ds_val = prepare(resized_ds_val)"
      ]
    },
    {
      "cell_type": "code",
      "execution_count": 9,
      "metadata": {
        "id": "uf1KScmu9odE"
      },
      "outputs": [],
      "source": [
        "def num_samples_per_class_onehot(resized_ds_train, print_all=False):\n",
        "    if loss != 'sparse_categorical_crossentropy':\n",
        "        vals = np.unique(np.fromiter(resized_ds_train.map(lambda x, y: tf.argmax(y)), int), return_counts=True)\n",
        "    else:\n",
        "        vals = np.unique(np.fromiter(resized_ds_train.map(lambda x, y: y), int), return_counts=True)\n",
        "    class_list = []\n",
        "    class_hist = []\n",
        "    for val,count in zip(*vals):\n",
        "        if print_all==True:\n",
        "            print(int(val), count)\n",
        "        class_hist.append((val,count))\n",
        "    class_hist.sort()\n",
        "    return class_hist\n",
        "#Post prepare function, all the labels will be converted to one hot encoders. In order to get class-wise distribution, we will need to convert each one hot encoder into its label (temporarily)\n",
        "#We need a new function to handle it\n",
        "class_hist = num_samples_per_class_onehot(resized_ds_train)\n"
      ]
    },
    {
      "cell_type": "code",
      "execution_count": 10,
      "metadata": {
        "colab": {
          "base_uri": "https://localhost:8080/",
          "height": 36
        },
        "id": "ftnZ5OyvQB98",
        "outputId": "720616e6-0f95-4f24-9f6e-82b93592158d"
      },
      "outputs": [
        {
          "output_type": "display_data",
          "data": {
            "text/plain": [
              "'Quantization scheme experiments'"
            ],
            "application/vnd.google.colaboratory.intrinsic+json": {
              "type": "string"
            }
          },
          "metadata": {}
        }
      ],
      "source": [
        "#reg = tf.keras.regularizers.L2(0.01)\n",
        "reg = tf.keras.regularizers.L1L2(l1 =0.0, l2 = 0.1)\n",
        "#reg = tf.keras.regularizers.L1L2(l1 =0.0, l2 = 0.0)\n",
        "#beta_regularizer = 0.1\n",
        "#gamma_regularizer = 0.1\n",
        "\n",
        "model = models.Sequential()\n",
        "kernel_size = (3,3)\n",
        "pool_size = (2,2)\n",
        "if USE_ORIGINAL == 1:\n",
        "\tdisplay(\"Default quantization scheme\")\n",
        "\t\n",
        "\tmodel.add(layers.Conv2D(32, kernel_size, kernel_initializer='he_uniform', kernel_regularizer = reg, padding='same', input_shape=(IMG_SIZE, IMG_SIZE, NUM_CHANNELS)))\n",
        "\tmodel.add(layers.BatchNormalization())\n",
        "\tmodel.add(layers.ReLU())\n",
        "\tmodel.add(layers.Conv2D(32, kernel_size, kernel_initializer='he_uniform', kernel_regularizer = reg, padding='same'))\n",
        "\tmodel.add(layers.BatchNormalization())\n",
        "\tmodel.add(layers.ReLU())\n",
        "\tmodel.add(layers.MaxPooling2D(pool_size))\n",
        "\tmodel.add(layers.Dropout(0.1))\n",
        "\t\n",
        "\tmodel.add(layers.Conv2D(64, kernel_size, kernel_initializer='he_uniform', kernel_regularizer = reg, padding='same'))\n",
        "\tmodel.add(layers.BatchNormalization())\n",
        "\tmodel.add(layers.ReLU())\n",
        "\tmodel.add(layers.Conv2D(64, kernel_size, kernel_initializer='he_uniform', kernel_regularizer = reg, padding='same'))\n",
        "\tmodel.add(layers.BatchNormalization())\n",
        "\tmodel.add(layers.ReLU())\n",
        "\tmodel.add(layers.MaxPooling2D(pool_size))\n",
        "\tmodel.add(layers.Dropout(0.2))\n",
        "\t\n",
        "\tmodel.add(layers.Conv2D(128, kernel_size, kernel_initializer='he_uniform', kernel_regularizer = reg, padding='same'))\n",
        "\tmodel.add(layers.BatchNormalization())\n",
        "\tmodel.add(layers.ReLU())\n",
        "\tmodel.add(layers.Conv2D(128, kernel_size, kernel_initializer='he_uniform', kernel_regularizer = reg, padding='same'))\n",
        "\tmodel.add(layers.BatchNormalization())\n",
        "\tmodel.add(layers.ReLU())\n",
        "\tmodel.add(layers.MaxPooling2D(pool_size))\n",
        "\tmodel.add(layers.Dropout(0.3))\n",
        "\t\n",
        "\tmodel.add(layers.Flatten())\n",
        "\tmodel.add(layers.Dense(128, kernel_initializer='he_uniform', kernel_regularizer = reg))\n",
        "\tif 0:\n",
        "\t\t\"\"\"\n",
        "\t\tThe converter quantizes batchnorm iff it follows a Conv2D layer. Hence we remove this BatchNorm layer (although it helps in accuracy).\n",
        "\t\tSo we trade off accuracy for smaller model size\n",
        "\t\t\"\"\"\n",
        "\t\tmodel.add(layers.BatchNormalization())\n",
        "\tmodel.add(layers.ReLU())\n",
        "\tmodel.add(layers.Dropout(0.2))\n",
        "\tmodel.add(layers.Dense(NUM_CLASSES, kernel_regularizer = reg))\n",
        "\tmodel.add(layers.Softmax())\n",
        "else:\n",
        "\tdisplay(\"Quantization scheme experiments\")\n",
        "\t\n",
        "\tmodel.add(layers.Conv2D(32, kernel_size, kernel_initializer='he_uniform', kernel_regularizer = reg, padding='same', input_shape=(IMG_SIZE, IMG_SIZE, NUM_CHANNELS)))\n",
        "\tmodel.add(layers.BatchNormalization())\n",
        "\tmodel.add(layers.ReLU())\n",
        "\tmodel.add(layers.Conv2D(32, kernel_size, kernel_initializer='he_uniform', kernel_regularizer = reg, padding='same'))\n",
        "\tmodel.add(layers.BatchNormalization())\n",
        "\tmodel.add(layers.ReLU())\n",
        "\tmodel.add(layers.MaxPooling2D(pool_size))\n",
        "\tmodel.add(layers.Dropout(0.1))\n",
        "\t\n",
        "\tmodel.add(layers.Conv2D(64, kernel_size, kernel_initializer='he_uniform', kernel_regularizer = reg, padding='same'))\n",
        "\tmodel.add(layers.BatchNormalization())\n",
        "\tmodel.add(layers.ReLU())\n",
        "\tmodel.add(layers.Conv2D(64, kernel_size, kernel_initializer='he_uniform', kernel_regularizer = reg, padding='same'))\n",
        "\tmodel.add(layers.BatchNormalization())\n",
        "\tmodel.add(layers.ReLU())\n",
        "\tmodel.add(layers.MaxPooling2D(pool_size))\n",
        "\tmodel.add(layers.Dropout(0.2))\n",
        "\t\n",
        "\tmodel.add(layers.Conv2D(128, kernel_size, kernel_initializer='he_uniform', kernel_regularizer = reg, padding='same'))\n",
        "\tmodel.add(layers.BatchNormalization())\n",
        "\tmodel.add(layers.ReLU())\n",
        "\tmodel.add(layers.Conv2D(128, kernel_size, kernel_initializer='he_uniform', kernel_regularizer = reg, padding='same'))\n",
        "\tmodel.add(layers.BatchNormalization())\n",
        "\tmodel.add(layers.ReLU())\n",
        "\tmodel.add(layers.MaxPooling2D(pool_size))\n",
        "\tmodel.add(layers.Dropout(0.3))\n",
        "\t\n",
        "\tmodel.add(layers.Flatten())\n",
        "\tmodel.add(layers.Dense(128, kernel_initializer='he_uniform', kernel_regularizer = reg))\n",
        "\tif 1:\n",
        "\t\t\"\"\"\n",
        "\t\tThe converter quantizes batchnorm iff it follows a Conv2D layer. Hence we remove this BatchNorm layer (although it helps in accuracy).\n",
        "\t\tSo we trade off accuracy for smaller model size\n",
        "\t\t\"\"\"\n",
        "\t\tmodel.add(layers.BatchNormalization())\n",
        "\tmodel.add(layers.ReLU())\n",
        "\tmodel.add(layers.Dropout(0.2))\n",
        "\tmodel.add(layers.Dense(NUM_CLASSES, kernel_regularizer = reg))\n",
        "\tmodel.add(layers.Softmax())"
      ]
    },
    {
      "cell_type": "code",
      "execution_count": 11,
      "metadata": {
        "id": "B-aANPwedhNH"
      },
      "outputs": [],
      "source": [
        "def get_class_weights(class_hist):\n",
        "    \"\"\"\n",
        "    Returns the class weights as a tf.Tensor. Class weights are inverse of the class frequencies\n",
        "    Class frequencies are the number of samples of each class which we calculate in earlier steps\n",
        "    \"\"\"\n",
        "    inv_freq = tf.convert_to_tensor([1.0/count for label, count in class_hist], dtype=tf.float32)\n",
        "    return tfutils.normalize(inv_freq)\n",
        "\n",
        "\n",
        "def weightedloss(y_true, y_pred, gamma, class_weight):\n",
        "    \"\"\"\n",
        "    We assume that all arguments coming into this function are tf.Tensors type\n",
        "    class_weights are basically alpha in focal loss paper\n",
        "    \"\"\"\n",
        "    #ones = tf.convert_to_tensor(np.ones(shape=len(y_true)))\n",
        "    a = tf.math.multiply(tf.math.pow(tf.math.subtract(1.0, y_pred), gamma), tf.math.log(y_pred))  #((1-pt)^gamma)log(pt)\n",
        "    b = tf.math.multiply(-1.0, class_weight)                                                          #-alpha\n",
        "    b = tf.math.multiply(b,a)    \n",
        "    b = tf.math.multiply(b, y_true)\n",
        "    return b\n",
        "class WeightedLoss(tf.keras.losses.Loss):\n",
        "    def __init__(self, gamma, class_weight=np.ones(shape=NUM_CLASSES, dtype=np.float32)):\n",
        "        super().__init__()\n",
        "        self.gamma = tf.convert_to_tensor(gamma)\n",
        "        self.class_weight = tf.convert_to_tensor(class_weight, dtype=tf.float32)\n",
        "    def call(self, y_true, y_pred):\n",
        "        return weightedloss(y_true, y_pred, self.gamma, self.class_weight)"
      ]
    },
    {
      "cell_type": "code",
      "execution_count": 12,
      "metadata": {
        "id": "fHRlWtV83IeV"
      },
      "outputs": [],
      "source": [
        "Learning_Rate = 1e-5\n",
        "\n",
        "#tf.keras.optimizers.Adam(learning_rate=Learning_Rate)     #OR tf.keras.optimizers.SGD(learning_rate=Learning_Rate, momentum=0.9)\n",
        "opt = tf.keras.optimizers.Adam(learning_rate=Learning_Rate)"
      ]
    },
    {
      "cell_type": "code",
      "execution_count": 13,
      "metadata": {
        "id": "DHFaNgqtwZGz"
      },
      "outputs": [],
      "source": [
        "###EITHER\n",
        "\n",
        "#!pip install focal-loss\n",
        "#from focal_loss import SparseCategoricalFocalLoss \n",
        "#model.compile( optimizer = opt, loss = SparseCategoricalFocalLoss(gamma=2), metrics=['accuracy'] )"
      ]
    },
    {
      "cell_type": "code",
      "execution_count": 14,
      "metadata": {
        "id": "nFFBTJNwLAcA"
      },
      "outputs": [],
      "source": [
        "###OR\n",
        "model.compile( optimizer = opt, loss = loss, metrics=['accuracy'] )"
      ]
    },
    {
      "cell_type": "code",
      "execution_count": 15,
      "metadata": {
        "id": "pmqZtduVbl-2"
      },
      "outputs": [],
      "source": [
        "###OR\n",
        "#class_wts = get_class_weights(class_hist)\n",
        "#display(class_wts)\n",
        "#model.compile( optimizer = opt, loss = WeightedLoss(gamma=2.0), metrics=['accuracy'] )"
      ]
    },
    {
      "cell_type": "code",
      "execution_count": 16,
      "metadata": {
        "id": "HL7YFZKvbn92"
      },
      "outputs": [],
      "source": [
        "#model.summary()"
      ]
    },
    {
      "cell_type": "code",
      "execution_count": 17,
      "metadata": {
        "colab": {
          "base_uri": "https://localhost:8080/"
        },
        "id": "KNi4QKkp27-d",
        "outputId": "1a460a1e-7b54-4129-d606-4d25eeeb4940"
      },
      "outputs": [
        {
          "output_type": "stream",
          "name": "stdout",
          "text": [
            "Epoch 1/80\n",
            "625/625 [==============================] - 43s 57ms/step - loss: 110.5841 - accuracy: 0.1419 - val_loss: 101.3618 - val_accuracy: 0.1990\n",
            "Epoch 2/80\n",
            "625/625 [==============================] - 33s 54ms/step - loss: 93.5708 - accuracy: 0.1979 - val_loss: 85.8006 - val_accuracy: 0.2630\n",
            "Epoch 3/80\n",
            "625/625 [==============================] - 34s 55ms/step - loss: 79.1822 - accuracy: 0.2456 - val_loss: 72.6060 - val_accuracy: 0.3005\n",
            "Epoch 4/80\n",
            "625/625 [==============================] - 34s 54ms/step - loss: 66.9767 - accuracy: 0.2860 - val_loss: 61.3929 - val_accuracy: 0.3365\n",
            "Epoch 5/80\n",
            "625/625 [==============================] - 33s 53ms/step - loss: 56.6171 - accuracy: 0.3184 - val_loss: 51.8848 - val_accuracy: 0.3640\n",
            "Epoch 6/80\n",
            "625/625 [==============================] - 33s 53ms/step - loss: 47.8493 - accuracy: 0.3461 - val_loss: 43.8341 - val_accuracy: 0.3950\n",
            "Epoch 7/80\n",
            "625/625 [==============================] - 33s 53ms/step - loss: 40.4528 - accuracy: 0.3710 - val_loss: 37.0736 - val_accuracy: 0.4090\n",
            "Epoch 8/80\n",
            "625/625 [==============================] - 35s 55ms/step - loss: 34.2509 - accuracy: 0.3894 - val_loss: 31.4207 - val_accuracy: 0.4270\n",
            "Epoch 9/80\n",
            "625/625 [==============================] - 34s 54ms/step - loss: 29.0783 - accuracy: 0.4081 - val_loss: 26.7272 - val_accuracy: 0.4335\n",
            "Epoch 10/80\n",
            "625/625 [==============================] - 33s 53ms/step - loss: 24.7871 - accuracy: 0.4287 - val_loss: 22.8628 - val_accuracy: 0.4350\n",
            "Epoch 11/80\n",
            "625/625 [==============================] - 33s 53ms/step - loss: 21.2515 - accuracy: 0.4449 - val_loss: 19.7125 - val_accuracy: 0.4295\n",
            "Epoch 12/80\n",
            "625/625 [==============================] - 35s 56ms/step - loss: 18.3539 - accuracy: 0.4586 - val_loss: 17.1074 - val_accuracy: 0.4445\n",
            "Epoch 13/80\n",
            "625/625 [==============================] - 36s 58ms/step - loss: 15.9810 - accuracy: 0.4754 - val_loss: 15.0121 - val_accuracy: 0.4420\n",
            "Epoch 14/80\n",
            "625/625 [==============================] - 36s 57ms/step - loss: 14.0447 - accuracy: 0.4885 - val_loss: 13.2603 - val_accuracy: 0.4685\n",
            "Epoch 15/80\n",
            "625/625 [==============================] - 35s 55ms/step - loss: 12.4609 - accuracy: 0.5034 - val_loss: 11.8565 - val_accuracy: 0.4725\n",
            "Epoch 16/80\n",
            "625/625 [==============================] - 35s 56ms/step - loss: 11.1614 - accuracy: 0.5165 - val_loss: 10.7057 - val_accuracy: 0.4750\n",
            "Epoch 17/80\n",
            "625/625 [==============================] - 35s 56ms/step - loss: 10.0928 - accuracy: 0.5305 - val_loss: 9.7148 - val_accuracy: 0.4900\n",
            "Epoch 18/80\n",
            "625/625 [==============================] - 34s 55ms/step - loss: 9.2044 - accuracy: 0.5435 - val_loss: 8.9078 - val_accuracy: 0.5015\n",
            "Epoch 19/80\n",
            "625/625 [==============================] - 35s 56ms/step - loss: 8.4578 - accuracy: 0.5551 - val_loss: 8.1863 - val_accuracy: 0.5245\n",
            "Epoch 20/80\n",
            "625/625 [==============================] - 34s 55ms/step - loss: 7.8228 - accuracy: 0.5706 - val_loss: 7.6304 - val_accuracy: 0.5300\n",
            "Epoch 21/80\n",
            "625/625 [==============================] - 36s 57ms/step - loss: 7.2808 - accuracy: 0.5801 - val_loss: 7.1075 - val_accuracy: 0.5355\n",
            "Epoch 22/80\n",
            "625/625 [==============================] - 35s 56ms/step - loss: 6.8086 - accuracy: 0.5910 - val_loss: 6.6517 - val_accuracy: 0.5500\n",
            "Epoch 23/80\n",
            "625/625 [==============================] - 34s 54ms/step - loss: 6.3955 - accuracy: 0.6017 - val_loss: 6.2753 - val_accuracy: 0.5540\n",
            "Epoch 24/80\n",
            "625/625 [==============================] - 35s 56ms/step - loss: 6.0259 - accuracy: 0.6112 - val_loss: 5.9153 - val_accuracy: 0.5660\n",
            "Epoch 25/80\n",
            "625/625 [==============================] - 36s 58ms/step - loss: 5.6968 - accuracy: 0.6228 - val_loss: 5.5850 - val_accuracy: 0.5785\n",
            "Epoch 26/80\n",
            "625/625 [==============================] - 36s 57ms/step - loss: 5.4023 - accuracy: 0.6309 - val_loss: 5.2876 - val_accuracy: 0.5995\n",
            "Epoch 27/80\n",
            "625/625 [==============================] - 34s 55ms/step - loss: 5.1364 - accuracy: 0.6367 - val_loss: 5.0276 - val_accuracy: 0.6075\n",
            "Epoch 28/80\n",
            "625/625 [==============================] - 35s 56ms/step - loss: 4.8920 - accuracy: 0.6469 - val_loss: 4.8134 - val_accuracy: 0.6070\n",
            "Epoch 29/80\n",
            "625/625 [==============================] - 36s 57ms/step - loss: 4.6712 - accuracy: 0.6517 - val_loss: 4.6206 - val_accuracy: 0.5990\n",
            "Epoch 30/80\n",
            "625/625 [==============================] - 36s 58ms/step - loss: 4.4685 - accuracy: 0.6572 - val_loss: 4.3847 - val_accuracy: 0.6255\n",
            "Epoch 31/80\n",
            "625/625 [==============================] - 35s 56ms/step - loss: 4.2792 - accuracy: 0.6648 - val_loss: 4.1956 - val_accuracy: 0.6340\n",
            "Epoch 32/80\n",
            "625/625 [==============================] - 34s 55ms/step - loss: 4.1055 - accuracy: 0.6712 - val_loss: 4.0276 - val_accuracy: 0.6405\n",
            "Epoch 33/80\n",
            "625/625 [==============================] - 35s 56ms/step - loss: 3.9454 - accuracy: 0.6761 - val_loss: 3.8725 - val_accuracy: 0.6425\n",
            "Epoch 34/80\n",
            "625/625 [==============================] - 36s 58ms/step - loss: 3.7946 - accuracy: 0.6820 - val_loss: 3.7727 - val_accuracy: 0.6340\n",
            "Epoch 35/80\n",
            "625/625 [==============================] - 33s 54ms/step - loss: 3.6561 - accuracy: 0.6862 - val_loss: 3.6322 - val_accuracy: 0.6400\n",
            "Epoch 36/80\n",
            "625/625 [==============================] - 34s 54ms/step - loss: 3.5245 - accuracy: 0.6926 - val_loss: 3.4859 - val_accuracy: 0.6600\n",
            "Epoch 37/80\n",
            "625/625 [==============================] - 33s 53ms/step - loss: 3.4027 - accuracy: 0.6965 - val_loss: 3.3842 - val_accuracy: 0.6620\n",
            "Epoch 38/80\n",
            "625/625 [==============================] - 35s 55ms/step - loss: 3.2857 - accuracy: 0.7035 - val_loss: 3.2215 - val_accuracy: 0.6845\n",
            "Epoch 39/80\n",
            "625/625 [==============================] - 34s 54ms/step - loss: 3.1780 - accuracy: 0.7075 - val_loss: 3.1575 - val_accuracy: 0.6740\n",
            "Epoch 40/80\n",
            "625/625 [==============================] - 33s 53ms/step - loss: 3.0789 - accuracy: 0.7100 - val_loss: 3.0260 - val_accuracy: 0.6910\n",
            "Epoch 41/80\n",
            "625/625 [==============================] - 33s 53ms/step - loss: 2.9851 - accuracy: 0.7153 - val_loss: 2.9874 - val_accuracy: 0.6645\n",
            "Epoch 42/80\n",
            "625/625 [==============================] - 34s 55ms/step - loss: 2.8952 - accuracy: 0.7199 - val_loss: 2.9100 - val_accuracy: 0.6670\n",
            "Epoch 43/80\n",
            "625/625 [==============================] - 33s 53ms/step - loss: 2.8108 - accuracy: 0.7226 - val_loss: 2.7799 - val_accuracy: 0.6990\n",
            "Epoch 44/80\n",
            "625/625 [==============================] - 33s 53ms/step - loss: 2.7334 - accuracy: 0.7244 - val_loss: 2.7125 - val_accuracy: 0.7030\n",
            "Epoch 45/80\n",
            "625/625 [==============================] - 33s 53ms/step - loss: 2.6578 - accuracy: 0.7301 - val_loss: 2.6363 - val_accuracy: 0.7020\n",
            "Epoch 46/80\n",
            "625/625 [==============================] - 34s 55ms/step - loss: 2.5854 - accuracy: 0.7338 - val_loss: 2.5327 - val_accuracy: 0.7240\n",
            "Epoch 47/80\n",
            "625/625 [==============================] - 34s 55ms/step - loss: 2.5175 - accuracy: 0.7384 - val_loss: 2.4957 - val_accuracy: 0.7155\n",
            "Epoch 48/80\n",
            "625/625 [==============================] - 34s 55ms/step - loss: 2.4606 - accuracy: 0.7381 - val_loss: 2.4433 - val_accuracy: 0.7130\n",
            "Epoch 49/80\n",
            "625/625 [==============================] - 34s 54ms/step - loss: 2.4029 - accuracy: 0.7402 - val_loss: 2.3937 - val_accuracy: 0.7180\n",
            "Epoch 50/80\n",
            "625/625 [==============================] - 34s 54ms/step - loss: 2.3439 - accuracy: 0.7445 - val_loss: 2.2970 - val_accuracy: 0.7290\n",
            "Epoch 51/80\n",
            "625/625 [==============================] - 34s 54ms/step - loss: 2.2912 - accuracy: 0.7463 - val_loss: 2.2618 - val_accuracy: 0.7260\n",
            "Epoch 52/80\n",
            "625/625 [==============================] - 34s 54ms/step - loss: 2.2387 - accuracy: 0.7506 - val_loss: 2.2291 - val_accuracy: 0.7230\n",
            "Epoch 53/80\n",
            "625/625 [==============================] - 34s 54ms/step - loss: 2.1905 - accuracy: 0.7530 - val_loss: 2.1929 - val_accuracy: 0.7205\n",
            "Epoch 54/80\n",
            "625/625 [==============================] - 34s 54ms/step - loss: 2.1455 - accuracy: 0.7556 - val_loss: 2.1151 - val_accuracy: 0.7320\n",
            "Epoch 55/80\n",
            "625/625 [==============================] - 34s 54ms/step - loss: 2.0997 - accuracy: 0.7582 - val_loss: 2.1166 - val_accuracy: 0.7220\n",
            "Epoch 56/80\n",
            "625/625 [==============================] - 34s 55ms/step - loss: 2.0578 - accuracy: 0.7600 - val_loss: 2.0192 - val_accuracy: 0.7440\n",
            "Epoch 57/80\n",
            "625/625 [==============================] - 34s 54ms/step - loss: 2.0200 - accuracy: 0.7624 - val_loss: 2.0153 - val_accuracy: 0.7375\n",
            "Epoch 58/80\n",
            "625/625 [==============================] - 33s 53ms/step - loss: 1.9803 - accuracy: 0.7662 - val_loss: 1.9821 - val_accuracy: 0.7365\n",
            "Epoch 59/80\n",
            "625/625 [==============================] - 35s 56ms/step - loss: 1.9453 - accuracy: 0.7680 - val_loss: 1.9382 - val_accuracy: 0.7405\n",
            "Epoch 60/80\n",
            "625/625 [==============================] - 34s 54ms/step - loss: 1.9130 - accuracy: 0.7695 - val_loss: 1.8860 - val_accuracy: 0.7530\n",
            "Epoch 61/80\n",
            "625/625 [==============================] - 34s 55ms/step - loss: 1.8821 - accuracy: 0.7703 - val_loss: 1.9021 - val_accuracy: 0.7345\n",
            "Epoch 62/80\n",
            "625/625 [==============================] - 34s 55ms/step - loss: 1.8501 - accuracy: 0.7721 - val_loss: 1.8328 - val_accuracy: 0.7490\n",
            "Epoch 63/80\n",
            "625/625 [==============================] - 36s 57ms/step - loss: 1.8190 - accuracy: 0.7762 - val_loss: 1.8304 - val_accuracy: 0.7410\n",
            "Epoch 64/80\n",
            "625/625 [==============================] - 34s 54ms/step - loss: 1.7915 - accuracy: 0.7756 - val_loss: 1.8091 - val_accuracy: 0.7455\n",
            "Epoch 65/80\n",
            "625/625 [==============================] - 34s 54ms/step - loss: 1.7651 - accuracy: 0.7791 - val_loss: 1.7708 - val_accuracy: 0.7500\n",
            "Epoch 66/80\n",
            "625/625 [==============================] - 33s 53ms/step - loss: 1.7391 - accuracy: 0.7802 - val_loss: 1.7422 - val_accuracy: 0.7535\n",
            "Epoch 67/80\n",
            "625/625 [==============================] - 35s 56ms/step - loss: 1.7126 - accuracy: 0.7811 - val_loss: 1.7555 - val_accuracy: 0.7395\n",
            "Epoch 68/80\n",
            "625/625 [==============================] - 34s 54ms/step - loss: 1.6887 - accuracy: 0.7829 - val_loss: 1.6623 - val_accuracy: 0.7655\n",
            "Epoch 69/80\n",
            "625/625 [==============================] - 33s 52ms/step - loss: 1.6656 - accuracy: 0.7851 - val_loss: 1.6779 - val_accuracy: 0.7540\n",
            "Epoch 70/80\n",
            "625/625 [==============================] - 33s 53ms/step - loss: 1.6413 - accuracy: 0.7882 - val_loss: 1.6503 - val_accuracy: 0.7555\n",
            "Epoch 71/80\n",
            "625/625 [==============================] - 34s 54ms/step - loss: 1.6200 - accuracy: 0.7883 - val_loss: 1.6431 - val_accuracy: 0.7565\n",
            "Epoch 72/80\n",
            "625/625 [==============================] - 34s 54ms/step - loss: 1.5988 - accuracy: 0.7917 - val_loss: 1.5889 - val_accuracy: 0.7780\n",
            "Epoch 73/80\n",
            "625/625 [==============================] - 34s 54ms/step - loss: 1.5775 - accuracy: 0.7923 - val_loss: 1.5773 - val_accuracy: 0.7695\n",
            "Epoch 74/80\n",
            "625/625 [==============================] - 34s 54ms/step - loss: 1.5632 - accuracy: 0.7911 - val_loss: 1.5639 - val_accuracy: 0.7715\n",
            "Epoch 75/80\n",
            "625/625 [==============================] - 34s 54ms/step - loss: 1.5401 - accuracy: 0.7946 - val_loss: 1.5413 - val_accuracy: 0.7745\n",
            "Epoch 76/80\n",
            "625/625 [==============================] - 35s 56ms/step - loss: 1.5253 - accuracy: 0.7955 - val_loss: 1.5235 - val_accuracy: 0.7745\n",
            "Epoch 77/80\n",
            "625/625 [==============================] - 33s 53ms/step - loss: 1.5056 - accuracy: 0.7974 - val_loss: 1.5308 - val_accuracy: 0.7720\n",
            "Epoch 78/80\n",
            "625/625 [==============================] - 34s 54ms/step - loss: 1.4920 - accuracy: 0.7980 - val_loss: 1.5146 - val_accuracy: 0.7740\n",
            "Epoch 79/80\n",
            "625/625 [==============================] - 33s 53ms/step - loss: 1.4739 - accuracy: 0.8000 - val_loss: 1.5238 - val_accuracy: 0.7555\n",
            "Epoch 80/80\n",
            "625/625 [==============================] - 35s 56ms/step - loss: 1.4546 - accuracy: 0.8025 - val_loss: 1.4430 - val_accuracy: 0.7845\n"
          ]
        }
      ],
      "source": [
        "resized_ds_train = resized_ds_train.batch(BATCH_SIZE)\n",
        "resized_ds_val = resized_ds_val.batch(BATCH_SIZE)\n",
        "\n",
        "h = model.fit( resized_ds_train, epochs=80, validation_data = resized_ds_val)"
      ]
    },
    {
      "cell_type": "code",
      "execution_count": 18,
      "metadata": {
        "id": "FuOyiBsTQkYL",
        "outputId": "61526341-9af6-4eec-9259-bea452ff558b",
        "colab": {
          "base_uri": "https://localhost:8080/",
          "height": 295
        }
      },
      "outputs": [
        {
          "output_type": "display_data",
          "data": {
            "text/plain": [
              "<Figure size 432x288 with 1 Axes>"
            ],
            "image/png": "[encoded data removed]"
          },
          "metadata": {
            "needs_background": "light"
          }
        }
      ],
      "source": [
        "plt.plot(h.history['loss'])\n",
        "plt.plot(h.history['val_loss'])\n",
        "plt.title('model loss')\n",
        "plt.ylabel('loss')\n",
        "plt.xlabel('epoch')\n",
        "plt.legend(['train', 'val'], loc='upper right')\n",
        "plt.show()"
      ]
    },
    {
      "cell_type": "code",
      "execution_count": 19,
      "metadata": {
        "id": "5eodErTxg9BJ",
        "outputId": "e293064b-b49b-4392-ee12-8b357a05223f",
        "colab": {
          "base_uri": "https://localhost:8080/",
          "height": 295
        }
      },
      "outputs": [
        {
          "output_type": "display_data",
          "data": {
            "text/plain": [
              "<Figure size 432x288 with 1 Axes>"
            ],
            "image/png": "[encoded data removed]"
          },
          "metadata": {
            "needs_background": "light"
          }
        }
      ],
      "source": [
        "plt.plot(h.history['accuracy'])\n",
        "plt.plot(h.history['val_accuracy'])\n",
        "plt.title('model accuracy')\n",
        "plt.ylabel('accuracy')\n",
        "plt.xlabel('epoch')\n",
        "plt.legend(['train', 'val'], loc='upper left')\n",
        "plt.show()"
      ]
    },
    {
      "cell_type": "code",
      "execution_count": 20,
      "metadata": {
        "id": "pxSSK5SPhnKL"
      },
      "outputs": [],
      "source": [
        "#Evaluation and confusion matrix creation:\n",
        "from sklearn.metrics import classification_report, confusion_matrix\n",
        "\n",
        "x_test = np.asarray(list(map(lambda x: x[0], tfds.as_numpy(resized_ds_test))))\n",
        "y_test_orig = np.asarray(list(map(lambda x: x[1], tfds.as_numpy(resized_ds_test))))"
      ]
    },
    {
      "cell_type": "code",
      "execution_count": 21,
      "metadata": {
        "id": "Tg4EdPBuc7fW",
        "outputId": "b5092cc3-0833-453f-f687-77546399e4cf",
        "colab": {
          "base_uri": "https://localhost:8080/"
        }
      },
      "outputs": [
        {
          "output_type": "stream",
          "name": "stdout",
          "text": [
            "313/313 [==============================] - 1s 3ms/step\n"
          ]
        }
      ],
      "source": [
        "predictions = model.predict(x_test)"
      ]
    },
    {
      "cell_type": "code",
      "execution_count": 22,
      "metadata": {
        "id": "sYYhORws1NnZ",
        "outputId": "cca73f16-1b9f-48e4-bf81-f306ad1eeb35",
        "colab": {
          "base_uri": "https://localhost:8080/",
          "height": 35
        }
      },
      "outputs": [
        {
          "output_type": "display_data",
          "data": {
            "text/plain": [
              "(10000, 10)"
            ]
          },
          "metadata": {}
        }
      ],
      "source": [
        "if loss!='sparse_categorical_crossentropy':\n",
        "    false_arr = np.full(shape=len(class_list), fill_value = False)\n",
        "    #y_pred = np.empty(shape=y_test_orig.shape[-1])\n",
        "    i=0\n",
        "    for i, pred in enumerate(predictions):\n",
        "        temp_arr = copy.deepcopy(false_arr)\n",
        "        np.put(temp_arr, np.argmax(pred), True)\n",
        "        if i==0:\n",
        "            y_pred = copy.deepcopy(temp_arr)\n",
        "        else:\n",
        "            y_pred = np.vstack([y_pred, temp_arr])\n",
        "    display(y_pred.shape)\n",
        "else:\n",
        "    y_pred = np.argmax(predictions, axis=1)\n"
      ]
    },
    {
      "cell_type": "code",
      "execution_count": 23,
      "metadata": {
        "id": "o-iQ19WTaE9s",
        "outputId": "e57ce6ef-10b0-4ebf-efde-19d05e30ced1",
        "colab": {
          "base_uri": "https://localhost:8080/",
          "height": 54
        }
      },
      "outputs": [
        {
          "output_type": "display_data",
          "data": {
            "text/plain": [
              "(10000, 10)"
            ]
          },
          "metadata": {}
        },
        {
          "output_type": "display_data",
          "data": {
            "text/plain": [
              "(10000, 10)"
            ]
          },
          "metadata": {}
        }
      ],
      "source": [
        "display(y_test_orig.shape)\n",
        "display(y_pred.shape)"
      ]
    },
    {
      "cell_type": "code",
      "execution_count": 24,
      "metadata": {
        "id": "phcwIL8RJQNQ",
        "outputId": "a61da759-035b-480e-8e76-518d7c03e4f3",
        "colab": {
          "base_uri": "https://localhost:8080/",
          "height": 565
        }
      },
      "outputs": [
        {
          "output_type": "stream",
          "name": "stdout",
          "text": [
            "Confusion Matrix\n"
          ]
        },
        {
          "output_type": "display_data",
          "data": {
            "text/plain": [
              "array([[884,  18,   3,   2,   4,  10,   8,   1,  30,  40],\n",
              "       [ 15, 868,  42,  10,  10,  36,   1,  11,   4,   3],\n",
              "       [  5,  28, 912,   2,   8,  11,   0,  15,   4,  15],\n",
              "       [ 19,  70,  53, 704,   6,  41,   3,  79,   7,  18],\n",
              "       [ 98, 140,  86,  53, 514,  42,  11,  26,   9,  21],\n",
              "       [ 19,  56,  13,  30,   6, 843,   1,  12,   3,  17],\n",
              "       [ 15,   2,   8,   2,   0,   1, 810,   1,  10, 151],\n",
              "       [ 24,  95, 121, 122,  15,  28,   3, 538,  19,  35],\n",
              "       [ 78,   6,   8,   1,   0,   2,   7,   1, 852,  45],\n",
              "       [ 25,   4,  15,   0,   1,   4,  15,   4,  10, 922]])"
            ]
          },
          "metadata": {}
        },
        {
          "output_type": "stream",
          "name": "stdout",
          "text": [
            "Classification Report\n",
            "              precision    recall  f1-score   support\n",
            "\n",
            "    airplane       0.75      0.88      0.81      1000\n",
            "        deer       0.67      0.87      0.76      1000\n",
            "        frog       0.72      0.91      0.81      1000\n",
            "         dog       0.76      0.70      0.73      1000\n",
            "        bird       0.91      0.51      0.66      1000\n",
            "       horse       0.83      0.84      0.84      1000\n",
            "  automobile       0.94      0.81      0.87      1000\n",
            "         cat       0.78      0.54      0.64      1000\n",
            "        ship       0.90      0.85      0.87      1000\n",
            "       truck       0.73      0.92      0.81      1000\n",
            "\n",
            "   micro avg       0.78      0.78      0.78     10000\n",
            "   macro avg       0.80      0.78      0.78     10000\n",
            "weighted avg       0.80      0.78      0.78     10000\n",
            " samples avg       0.78      0.78      0.78     10000\n",
            "\n"
          ]
        }
      ],
      "source": [
        "print('Confusion Matrix')\n",
        "if loss != 'sparse_categorical_crossentropy':\n",
        "    matrix = confusion_matrix(y_test_orig.argmax(axis=1), y_pred.argmax(axis=1))\n",
        "else:\n",
        "    matrix = confusion_matrix(y_test_orig, y_pred)\n",
        "display(matrix)\n",
        "\n",
        "# Print Classification Report\n",
        "print('Classification Report')\n",
        "print(classification_report(y_test_orig, y_pred, target_names=class_names))"
      ]
    },
    {
      "cell_type": "code",
      "execution_count": 25,
      "metadata": {
        "id": "7NaFdDuTQoyT"
      },
      "outputs": [],
      "source": [
        "def ret_as_numpy():\n",
        "    #test = tfds.load(DataSet, split='test', as_supervised=True)\n",
        "    #test = prepare(test)\n",
        "    #test = tfds.as_numpy(test)\n",
        "    return tfds.as_numpy(resized_ds_test)"
      ]
    },
    {
      "cell_type": "code",
      "execution_count": 26,
      "metadata": {
        "id": "Si_MguzMQuZL"
      },
      "outputs": [],
      "source": [
        "test_as_np = ret_as_numpy()"
      ]
    },
    {
      "cell_type": "code",
      "execution_count": 27,
      "metadata": {
        "id": "xWYWlODgQrFy"
      },
      "outputs": [],
      "source": [
        "def evaluate_float_model(model, test):\n",
        "    test_labels = []\n",
        "    \n",
        "    # Run predictions on every image in the \"test\" dataset.\n",
        "    prediction_digits = []\n",
        "    for i, test_example in enumerate(test):\n",
        "        test_labels.append(np.argmax(test_example[-1]))\n",
        "        test_image = test_example[0]\n",
        "        # Pre-processing: add batch dimension and convert to float32 to match with\n",
        "        # the model's input data format.\n",
        "        #display(test_image.shape)\n",
        "        test_image = np.expand_dims(test_image, axis=0).astype(np.float32)\n",
        "        \n",
        "        # Run inference.\n",
        "        output = model(test_image, training=False)\n",
        "        # Post-processing: remove batch dimension and find the digit with highest\n",
        "        # probability.\n",
        "        output = output.numpy()\n",
        "        digit = np.argmax(output[0])\n",
        "        prediction_digits.append(digit)\n",
        "        \n",
        "    print('\\n')\n",
        "    # Compare prediction results with ground truth labels to calculate accuracy.\n",
        "    prediction_digits = np.array(prediction_digits)\n",
        "    accuracy = (prediction_digits == test_labels).mean()\n",
        "    return accuracy"
      ]
    },
    {
      "cell_type": "code",
      "execution_count": 28,
      "metadata": {
        "id": "BOHIU_J3QxE7",
        "outputId": "14676dc1-d0ab-4021-8e24-ba454b43cdba",
        "colab": {
          "base_uri": "https://localhost:8080/"
        }
      },
      "outputs": [
        {
          "output_type": "stream",
          "name": "stdout",
          "text": [
            "\n",
            "\n",
            "Float test_accuracy: 0.7847\n"
          ]
        }
      ],
      "source": [
        "test_accuracy_Float = evaluate_float_model(model, test_as_np)\n",
        "\n",
        "print('Float test_accuracy:', test_accuracy_Float)"
      ]
    },
    {
      "cell_type": "markdown",
      "metadata": {
        "id": "g_Q2Is9IY-Oo"
      },
      "source": [
        "Float checkpoint"
      ]
    },
    {
      "cell_type": "code",
      "execution_count": 29,
      "metadata": {
        "id": "5i9kUxj-4wNG",
        "outputId": "fce3e6fb-77b5-4643-ec3d-0a73857961ec",
        "colab": {
          "base_uri": "https://localhost:8080/"
        }
      },
      "outputs": [
        {
          "output_type": "stream",
          "name": "stdout",
          "text": [
            "\u001b[?25l     \u001b[90m━━━━━━━━━━━━━━━━━━━━━━━━━━━━━━━━━━━━━━━━\u001b[0m \u001b[32m0.0/238.9 KB\u001b[0m \u001b[31m?\u001b[0m eta \u001b[36m-:--:--\u001b[0m\r\u001b[2K     \u001b[90m━━━━━━━━━━━━━━━━━━━━━━━━━━━━━━━━━━━━━━\u001b[0m \u001b[32m238.9/238.9 KB\u001b[0m \u001b[31m13.3 MB/s\u001b[0m eta \u001b[36m0:00:00\u001b[0m\n",
            "\u001b[?25h"
          ]
        }
      ],
      "source": [
        "! pip install -q tensorflow-model-optimization\n",
        "import tensorflow_model_optimization as tfmot\n",
        "\n",
        "#To make the whole model aware of quantization,\n",
        "quantize_model = tfmot.quantization.keras.quantize_model"
      ]
    },
    {
      "cell_type": "code",
      "execution_count": 30,
      "metadata": {
        "id": "yWycqRCE4yBu",
        "outputId": "2026aa61-5c80-42fe-dd0d-9e23c04a7d8b",
        "colab": {
          "base_uri": "https://localhost:8080/"
        }
      },
      "outputs": [
        {
          "output_type": "stream",
          "name": "stdout",
          "text": [
            "Model: \"sequential_3\"\n",
            "_________________________________________________________________\n",
            " Layer (type)                Output Shape              Param #   \n",
            "=================================================================\n",
            " quantize_layer (QuantizeLay  (None, 32, 32, 3)        3         \n",
            " er)                                                             \n",
            "                                                                 \n",
            " quant_conv2d (QuantizeWrapp  (None, 32, 32, 32)       961       \n",
            " erV2)                                                           \n",
            "                                                                 \n",
            " quant_batch_normalization (  (None, 32, 32, 32)       129       \n",
            " QuantizeWrapperV2)                                              \n",
            "                                                                 \n",
            " quant_re_lu (QuantizeWrappe  (None, 32, 32, 32)       3         \n",
            " rV2)                                                            \n",
            "                                                                 \n",
            " quant_conv2d_1 (QuantizeWra  (None, 32, 32, 32)       9313      \n",
            " pperV2)                                                         \n",
            "                                                                 \n",
            " quant_batch_normalization_1  (None, 32, 32, 32)       129       \n",
            "  (QuantizeWrapperV2)                                            \n",
            "                                                                 \n",
            " quant_re_lu_1 (QuantizeWrap  (None, 32, 32, 32)       3         \n",
            " perV2)                                                          \n",
            "                                                                 \n",
            " quant_max_pooling2d (Quanti  (None, 16, 16, 32)       1         \n",
            " zeWrapperV2)                                                    \n",
            "                                                                 \n",
            " quant_dropout (QuantizeWrap  (None, 16, 16, 32)       1         \n",
            " perV2)                                                          \n",
            "                                                                 \n",
            " quant_conv2d_2 (QuantizeWra  (None, 16, 16, 64)       18625     \n",
            " pperV2)                                                         \n",
            "                                                                 \n",
            " quant_batch_normalization_2  (None, 16, 16, 64)       257       \n",
            "  (QuantizeWrapperV2)                                            \n",
            "                                                                 \n",
            " quant_re_lu_2 (QuantizeWrap  (None, 16, 16, 64)       3         \n",
            " perV2)                                                          \n",
            "                                                                 \n",
            " quant_conv2d_3 (QuantizeWra  (None, 16, 16, 64)       37057     \n",
            " pperV2)                                                         \n",
            "                                                                 \n",
            " quant_batch_normalization_3  (None, 16, 16, 64)       257       \n",
            "  (QuantizeWrapperV2)                                            \n",
            "                                                                 \n",
            " quant_re_lu_3 (QuantizeWrap  (None, 16, 16, 64)       3         \n",
            " perV2)                                                          \n",
            "                                                                 \n",
            " quant_max_pooling2d_1 (Quan  (None, 8, 8, 64)         1         \n",
            " tizeWrapperV2)                                                  \n",
            "                                                                 \n",
            " quant_dropout_1 (QuantizeWr  (None, 8, 8, 64)         1         \n",
            " apperV2)                                                        \n",
            "                                                                 \n",
            " quant_conv2d_4 (QuantizeWra  (None, 8, 8, 128)        74113     \n",
            " pperV2)                                                         \n",
            "                                                                 \n",
            " quant_batch_normalization_4  (None, 8, 8, 128)        513       \n",
            "  (QuantizeWrapperV2)                                            \n",
            "                                                                 \n",
            " quant_re_lu_4 (QuantizeWrap  (None, 8, 8, 128)        3         \n",
            " perV2)                                                          \n",
            "                                                                 \n",
            " quant_conv2d_5 (QuantizeWra  (None, 8, 8, 128)        147841    \n",
            " pperV2)                                                         \n",
            "                                                                 \n",
            " quant_batch_normalization_5  (None, 8, 8, 128)        513       \n",
            "  (QuantizeWrapperV2)                                            \n",
            "                                                                 \n",
            " quant_re_lu_5 (QuantizeWrap  (None, 8, 8, 128)        3         \n",
            " perV2)                                                          \n",
            "                                                                 \n",
            " quant_max_pooling2d_2 (Quan  (None, 4, 4, 128)        1         \n",
            " tizeWrapperV2)                                                  \n",
            "                                                                 \n",
            " quant_dropout_2 (QuantizeWr  (None, 4, 4, 128)        1         \n",
            " apperV2)                                                        \n",
            "                                                                 \n",
            " quant_flatten (QuantizeWrap  (None, 2048)             1         \n",
            " perV2)                                                          \n",
            "                                                                 \n",
            " quant_dense (QuantizeWrappe  (None, 128)              262275    \n",
            " rV2)                                                            \n",
            "                                                                 \n",
            " quant_batch_normalization_6  (None, 128)              515       \n",
            "  (QuantizeWrapperV2)                                            \n",
            "                                                                 \n",
            " quant_re_lu_6 (QuantizeWrap  (None, 128)              3         \n",
            " perV2)                                                          \n",
            "                                                                 \n",
            " quant_dropout_3 (QuantizeWr  (None, 128)              1         \n",
            " apperV2)                                                        \n",
            "                                                                 \n",
            " quant_dense_1 (QuantizeWrap  (None, 10)               1295      \n",
            " perV2)                                                          \n",
            "                                                                 \n",
            " quant_softmax (QuantizeWrap  (None, 10)               1         \n",
            " perV2)                                                          \n",
            "                                                                 \n",
            "=================================================================\n",
            "Total params: 553,826\n",
            "Trainable params: 551,722\n",
            "Non-trainable params: 2,104\n",
            "_________________________________________________________________\n"
          ]
        }
      ],
      "source": [
        "q_aware_model = quantize_model(model)\n",
        "#TODO: Check why this is not possible with Adam\n",
        "opt = tf.keras.optimizers.SGD(learning_rate=Learning_Rate, momentum=0.9)\n",
        "q_aware_model.compile(optimizer = opt, loss = 'categorical_crossentropy', metrics=['accuracy'])\n",
        "q_aware_model.summary()"
      ]
    },
    {
      "cell_type": "code",
      "execution_count": 31,
      "metadata": {
        "id": "blO0aYaP44O8",
        "outputId": "729eaaaa-ee94-420e-81a1-4c88b551a98c",
        "colab": {
          "base_uri": "https://localhost:8080/"
        }
      },
      "outputs": [
        {
          "output_type": "stream",
          "name": "stdout",
          "text": [
            "Epoch 1/5\n",
            "625/625 [==============================] - 43s 63ms/step - loss: 1.4332 - accuracy: 0.8056 - val_loss: 1.4459 - val_accuracy: 0.7765\n",
            "Epoch 2/5\n",
            "625/625 [==============================] - 40s 63ms/step - loss: 1.4176 - accuracy: 0.8062 - val_loss: 1.4136 - val_accuracy: 0.7790\n",
            "Epoch 3/5\n",
            "625/625 [==============================] - 40s 64ms/step - loss: 1.4003 - accuracy: 0.8091 - val_loss: 1.3883 - val_accuracy: 0.7870\n",
            "Epoch 4/5\n",
            "625/625 [==============================] - 39s 62ms/step - loss: 1.3859 - accuracy: 0.8103 - val_loss: 1.3633 - val_accuracy: 0.7995\n",
            "Epoch 5/5\n",
            "625/625 [==============================] - 40s 64ms/step - loss: 1.3665 - accuracy: 0.8131 - val_loss: 1.3346 - val_accuracy: 0.8000\n"
          ]
        }
      ],
      "source": [
        "h = q_aware_model.fit(resized_ds_train, epochs=5, validation_data = resized_ds_val)"
      ]
    },
    {
      "cell_type": "code",
      "execution_count": 32,
      "metadata": {
        "id": "WButHzSy5BTH",
        "outputId": "9ea8aee7-f656-4153-dd96-dc3d3886024b",
        "colab": {
          "base_uri": "https://localhost:8080/",
          "height": 295
        }
      },
      "outputs": [
        {
          "output_type": "display_data",
          "data": {
            "text/plain": [
              "<Figure size 432x288 with 1 Axes>"
            ],
            "image/png": "[encoded data removed]"
          },
          "metadata": {
            "needs_background": "light"
          }
        }
      ],
      "source": [
        "plt.plot(h.history['loss'])\n",
        "plt.plot(h.history['val_loss'])\n",
        "plt.title('model loss')\n",
        "plt.ylabel('loss')\n",
        "plt.xlabel('epoch')\n",
        "plt.legend(['train', 'val'], loc='upper left')\n",
        "plt.show()"
      ]
    },
    {
      "cell_type": "code",
      "execution_count": 33,
      "metadata": {
        "id": "GbugbXtI5Ecm",
        "outputId": "d009ae43-83ba-4012-f442-1ca97565bc01",
        "colab": {
          "base_uri": "https://localhost:8080/"
        }
      },
      "outputs": [
        {
          "output_type": "stream",
          "name": "stderr",
          "text": [
            "WARNING:absl:Found untraced functions such as conv2d_layer_call_fn, conv2d_layer_call_and_return_conditional_losses, _jit_compiled_convolution_op, re_lu_layer_call_fn, re_lu_layer_call_and_return_conditional_losses while saving (showing 5 of 48). These functions will not be directly callable after loading.\n",
            "/usr/local/lib/python3.8/dist-packages/tensorflow/lite/python/convert.py:765: UserWarning: Statistics for quantized inputs were expected, but not specified; continuing anyway.\n",
            "  warnings.warn(\"Statistics for quantized inputs were expected, but not \"\n"
          ]
        }
      ],
      "source": [
        "converter = tf.lite.TFLiteConverter.from_keras_model(q_aware_model)\n",
        "converter.optimizations = [tf.lite.Optimize.DEFAULT]\n",
        "\n",
        "quantized_tflite_model = converter.convert()"
      ]
    },
    {
      "cell_type": "code",
      "execution_count": 34,
      "metadata": {
        "id": "iXBCHsjF5JiG"
      },
      "outputs": [],
      "source": [
        "def evaluate_model(interpreter, test):\n",
        "    test_labels = []\n",
        "\n",
        "\n",
        "    input_index = interpreter.get_input_details()[0][\"index\"]\n",
        "    output_index = interpreter.get_output_details()[0][\"index\"]\n",
        "    \n",
        "    # Run predictions on every image in the \"test\" dataset.\n",
        "    prediction_digits = []\n",
        "    for i, test_example in enumerate(test):\n",
        "        test_labels.append(np.argmax(test_example[-1]))\n",
        "        test_image = test_example[0]\n",
        "        # Pre-processing: add batch dimension and convert to float32 to match with\n",
        "        # the model's input data format.\n",
        "        test_image = np.expand_dims(test_image, axis=0).astype(np.float32)\n",
        "        interpreter.set_tensor(input_index, test_image)\n",
        "        \n",
        "        # Run inference.\n",
        "        interpreter.invoke()\n",
        "        \n",
        "        # Post-processing: remove batch dimension and find the digit with highest\n",
        "        # probability.\n",
        "        output = interpreter.tensor(output_index)\n",
        "        digit = np.argmax(output()[0])\n",
        "        prediction_digits.append(digit)\n",
        "        \n",
        "    print('\\n')\n",
        "    # Compare prediction results with ground truth labels to calculate accuracy.\n",
        "    prediction_digits = np.array(prediction_digits)\n",
        "    accuracy = (prediction_digits == test_labels).mean()\n",
        "    return accuracy"
      ]
    },
    {
      "cell_type": "code",
      "execution_count": 35,
      "metadata": {
        "id": "rWyXRobN5NU_",
        "outputId": "f3e29aef-f6fb-47ee-b999-74d880d0cf7c",
        "colab": {
          "base_uri": "https://localhost:8080/"
        }
      },
      "outputs": [
        {
          "output_type": "stream",
          "name": "stdout",
          "text": [
            "\n",
            "\n",
            "Quant TFLite test_accuracy: 0.8038\n"
          ]
        }
      ],
      "source": [
        "#Models obtained from TfLiteConverter can be run in Python with Interpreter.\n",
        "interpreter = tf.lite.Interpreter(model_content=quantized_tflite_model)\n",
        "#Since TensorFlow Lite pre-plans tensor allocations to optimize inference, the user needs to call allocate_tensors() before any inference.\n",
        "interpreter.allocate_tensors()\n",
        "\n",
        "test_accuracy = evaluate_model(interpreter, test_as_np)\n",
        "\n",
        "print('Quant TFLite test_accuracy:', test_accuracy)\n",
        "#print('Quant TF test accuracy:', q_aware_model_accuracy)"
      ]
    },
    {
      "cell_type": "code",
      "execution_count": 36,
      "metadata": {
        "id": "KxEHJlru5PlG",
        "outputId": "a73b2e64-0d21-4ff1-c851-dd40fca7e1a7",
        "colab": {
          "base_uri": "https://localhost:8080/"
        }
      },
      "outputs": [
        {
          "output_type": "stream",
          "name": "stderr",
          "text": [
            "WARNING:absl:Found untraced functions such as _jit_compiled_convolution_op, _jit_compiled_convolution_op, _jit_compiled_convolution_op, _jit_compiled_convolution_op, _jit_compiled_convolution_op while saving (showing 5 of 6). These functions will not be directly callable after loading.\n"
          ]
        }
      ],
      "source": [
        "MODEL_DIR = \"CadenceNet_Float\"\n",
        "model.save(MODEL_DIR, save_format=\"tf\")"
      ]
    },
    {
      "cell_type": "code",
      "execution_count": 37,
      "metadata": {
        "id": "VHzmQxaT5R3W",
        "outputId": "bd5dc29f-4946-4013-9992-5d4092c8138c",
        "colab": {
          "base_uri": "https://localhost:8080/"
        }
      },
      "outputs": [
        {
          "output_type": "stream",
          "name": "stdout",
          "text": [
            "Looking in indexes: https://pypi.org/simple, https://us-python.pkg.dev/colab-wheels/public/simple/\n",
            "Collecting tf2onnx==1.8.4\n",
            "  Downloading tf2onnx-1.8.4-py3-none-any.whl (345 kB)\n",
            "\u001b[2K     \u001b[90m━━━━━━━━━━━━━━━━━━━━━━━━━━━━━━━━━━━━━━\u001b[0m \u001b[32m345.3/345.3 KB\u001b[0m \u001b[31m11.0 MB/s\u001b[0m eta \u001b[36m0:00:00\u001b[0m\n",
            "\u001b[?25hRequirement already satisfied: numpy>=1.14.1 in /usr/local/lib/python3.8/dist-packages (from tf2onnx==1.8.4) (1.22.4)\n",
            "Collecting onnx>=1.4.1\n",
            "  Downloading onnx-1.13.1-cp38-cp38-manylinux_2_17_x86_64.manylinux2014_x86_64.whl (13.5 MB)\n",
            "\u001b[2K     \u001b[90m━━━━━━━━━━━━━━━━━━━━━━━━━━━━━━━━━━━━━━━━\u001b[0m \u001b[32m13.5/13.5 MB\u001b[0m \u001b[31m94.4 MB/s\u001b[0m eta \u001b[36m0:00:00\u001b[0m\n",
            "\u001b[?25hRequirement already satisfied: six in /usr/local/lib/python3.8/dist-packages (from tf2onnx==1.8.4) (1.15.0)\n",
            "Requirement already satisfied: flatbuffers in /usr/local/lib/python3.8/dist-packages (from tf2onnx==1.8.4) (23.1.21)\n",
            "Requirement already satisfied: requests in /usr/local/lib/python3.8/dist-packages (from tf2onnx==1.8.4) (2.25.1)\n",
            "Collecting protobuf<4,>=3.20.2\n",
            "  Downloading protobuf-3.20.3-cp38-cp38-manylinux_2_5_x86_64.manylinux1_x86_64.whl (1.0 MB)\n",
            "\u001b[2K     \u001b[90m━━━━━━━━━━━━━━━━━━━━━━━━━━━━━━━━━━━━━━━━\u001b[0m \u001b[32m1.0/1.0 MB\u001b[0m \u001b[31m67.9 MB/s\u001b[0m eta \u001b[36m0:00:00\u001b[0m\n",
            "\u001b[?25hRequirement already satisfied: typing-extensions>=3.6.2.1 in /usr/local/lib/python3.8/dist-packages (from onnx>=1.4.1->tf2onnx==1.8.4) (4.5.0)\n",
            "Requirement already satisfied: urllib3<1.27,>=1.21.1 in /usr/local/lib/python3.8/dist-packages (from requests->tf2onnx==1.8.4) (1.26.14)\n",
            "Requirement already satisfied: chardet<5,>=3.0.2 in /usr/local/lib/python3.8/dist-packages (from requests->tf2onnx==1.8.4) (4.0.0)\n",
            "Requirement already satisfied: certifi>=2017.4.17 in /usr/local/lib/python3.8/dist-packages (from requests->tf2onnx==1.8.4) (2022.12.7)\n",
            "Requirement already satisfied: idna<3,>=2.5 in /usr/local/lib/python3.8/dist-packages (from requests->tf2onnx==1.8.4) (2.10)\n",
            "Installing collected packages: protobuf, onnx, tf2onnx\n",
            "  Attempting uninstall: protobuf\n",
            "    Found existing installation: protobuf 3.19.6\n",
            "    Uninstalling protobuf-3.19.6:\n",
            "      Successfully uninstalled protobuf-3.19.6\n",
            "\u001b[31mERROR: pip's dependency resolver does not currently take into account all the packages that are installed. This behaviour is the source of the following dependency conflicts.\n",
            "tensorflow 2.11.0 requires protobuf<3.20,>=3.9.2, but you have protobuf 3.20.3 which is incompatible.\u001b[0m\u001b[31m\n",
            "\u001b[0mSuccessfully installed onnx-1.13.1 protobuf-3.20.3 tf2onnx-1.8.4\n",
            "2023-03-05 07:53:22.733154: W tensorflow/compiler/xla/stream_executor/platform/default/dso_loader.cc:64] Could not load dynamic library 'libnvinfer.so.7'; dlerror: libnvinfer.so.7: cannot open shared object file: No such file or directory; LD_LIBRARY_PATH: /usr/lib64-nvidia\n",
            "2023-03-05 07:53:22.733256: W tensorflow/compiler/xla/stream_executor/platform/default/dso_loader.cc:64] Could not load dynamic library 'libnvinfer_plugin.so.7'; dlerror: libnvinfer_plugin.so.7: cannot open shared object file: No such file or directory; LD_LIBRARY_PATH: /usr/lib64-nvidia\n",
            "2023-03-05 07:53:22.733274: W tensorflow/compiler/tf2tensorrt/utils/py_utils.cc:38] TF-TRT Warning: Cannot dlopen some TensorRT libraries. If you would like to use Nvidia GPU with TensorRT, please make sure the missing libraries mentioned above are installed properly.\n",
            "/usr/lib/python3.8/runpy.py:127: RuntimeWarning: 'tf2onnx.convert' found in sys.modules after import of package 'tf2onnx', but prior to execution of 'tf2onnx.convert'; this may result in unpredictable behaviour\n",
            "  warn(RuntimeWarning(msg))\n",
            "2023-03-05 07:53:24,965 - WARNING - '--tag' not specified for saved_model. Using --tag serve\n",
            "2023-03-05 07:53:26,089 - INFO - Signatures found in model: [serving_default].\n",
            "2023-03-05 07:53:26,089 - WARNING - '--signature_def' not specified, using first signature: serving_default\n",
            "2023-03-05 07:53:26,089 - INFO - Output names: ['softmax']\n",
            "WARNING:tensorflow:From /usr/local/lib/python3.8/dist-packages/tf2onnx/tf_loader.py:557: extract_sub_graph (from tensorflow.python.framework.graph_util_impl) is deprecated and will be removed in a future version.\n",
            "Instructions for updating:\n",
            "This API was designed for TensorFlow v1. See https://www.tensorflow.org/guide/migrate for instructions on how to migrate your code to TensorFlow v2.\n",
            "2023-03-05 07:53:26,319 - WARNING - From /usr/local/lib/python3.8/dist-packages/tf2onnx/tf_loader.py:557: extract_sub_graph (from tensorflow.python.framework.graph_util_impl) is deprecated and will be removed in a future version.\n",
            "Instructions for updating:\n",
            "This API was designed for TensorFlow v1. See https://www.tensorflow.org/guide/migrate for instructions on how to migrate your code to TensorFlow v2.\n",
            "2023-03-05 07:53:26,378 - INFO - Using tensorflow=2.11.0, onnx=1.13.1, tf2onnx=1.8.4/cd55bf\n",
            "2023-03-05 07:53:26,379 - INFO - Using opset <onnx, 9>\n",
            "2023-03-05 07:53:26,386 - INFO - Computed 0 values for constant folding\n",
            "2023-03-05 07:53:26,467 - INFO - Optimizing ONNX model\n",
            "2023-03-05 07:53:26,543 - INFO - After optimization: BatchNormalization -6 (6->0), Cast -1 (1->0), Const -24 (43->19), Identity -9 (9->0), Transpose -28 (30->2)\n",
            "2023-03-05 07:53:26,549 - INFO - \n",
            "2023-03-05 07:53:26,549 - INFO - Successfully converted TensorFlow model /content/CadenceNet_Float/ to ONNX\n",
            "2023-03-05 07:53:26,549 - INFO - Model inputs: ['conv2d_input:0']\n",
            "2023-03-05 07:53:26,550 - INFO - Model outputs: ['softmax']\n",
            "2023-03-05 07:53:26,550 - INFO - ONNX model is saved at /content/CadenceNetOriginal_Float.onnx\n"
          ]
        }
      ],
      "source": [
        "!pip install -U tf2onnx==1.8.4\n",
        "!python -m tf2onnx.convert --saved-model /content/CadenceNet_Float/ --output /content/CadenceNetOriginal_Float.onnx"
      ]
    },
    {
      "cell_type": "code",
      "execution_count": 38,
      "metadata": {
        "id": "-UgJyPkX5UKe",
        "outputId": "c15860fc-478f-445a-bc8d-bcc2eb6ded87",
        "colab": {
          "base_uri": "https://localhost:8080/"
        }
      },
      "outputs": [
        {
          "output_type": "execute_result",
          "data": {
            "text/plain": [
              "1359408"
            ]
          },
          "metadata": {},
          "execution_count": 38
        }
      ],
      "source": [
        "quant_file = \"/content/CadenceNetOriginal_QAT.tflite\"\n",
        "open(quant_file, \"wb\").write(quantized_tflite_model)"
      ]
    },
    {
      "cell_type": "code",
      "execution_count": 39,
      "metadata": {
        "id": "T5iITOiiRP0M",
        "outputId": "5b491708-ed48-42c5-f2cd-0b1099b2b115",
        "colab": {
          "base_uri": "https://localhost:8080/"
        }
      },
      "outputs": [
        {
          "output_type": "stream",
          "name": "stdout",
          "text": [
            "Float model in Mb:  2.1094303131103516\n",
            "Quantized model in Mb:  1.2964324951171875\n",
            "Float Model Accuracy:  0.7847\n",
            "Quantized Model Accuracy:  0.8038\n"
          ]
        }
      ],
      "source": [
        "\n",
        "print(\"Float model in Mb: \", os.path.getsize(\"/content/CadenceNetOriginal_Float.onnx\") / float(2**20))\n",
        "print(\"Quantized model in Mb: \", os.path.getsize(quant_file) / float(2**20))\n",
        "print(\"Float Model Accuracy: \", test_accuracy_Float)\n",
        "print(\"Quantized Model Accuracy: \", test_accuracy)"
      ]
    },
    {
      "cell_type": "code",
      "execution_count": null,
      "metadata": {
        "id": "xh_ERgvr1BNy"
      },
      "outputs": [],
      "source": []
    }
  ],
  "metadata": {
    "accelerator": "GPU",
    "colab": {
      "provenance": [],
      "include_colab_link": true
    },
    "gpuClass": "standard",
    "kernelspec": {
      "display_name": "Python 3",
      "name": "python3"
    },
    "language_info": {
      "name": "python"
    }
  },
  "nbformat": 4,
  "nbformat_minor": 0
}